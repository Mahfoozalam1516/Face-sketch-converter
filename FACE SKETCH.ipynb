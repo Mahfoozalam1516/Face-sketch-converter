{
 "cells": [
  {
   "cell_type": "code",
   "execution_count": 9,
   "id": "28ea746e",
   "metadata": {},
   "outputs": [
    {
     "name": "stdout",
     "output_type": "stream",
     "text": [
      "4.6.0\n"
     ]
    }
   ],
   "source": [
    "import cv2\n",
    "import numpy as np\n",
    "print(cv2.__version__)"
   ]
  },
  {
   "cell_type": "code",
   "execution_count": 15,
   "id": "d29aadae",
   "metadata": {},
   "outputs": [],
   "source": [
    "def sketch(image):\n",
    "    height=int(image.shape[0])\n",
    "    width=int(image.shape[1])\n",
    "    dim=(width,height)\n",
    "    resize=cv2.resize(image,dim,interpolation=cv2.INTER_AREA)\n",
    "    kernel=np.array([[-1,-1,-1],[-1,9,-1],[-1,-1,-1]])\n",
    "    sharp=cv2.filter2D(resize,-1,kernel)\n",
    "    gray=cv2.cvtColor(sharp,cv2.COLOR_BGR2GRAY)\n",
    "    inv=255-gray\n",
    "    blur=cv2.GaussianBlur(src=inv,ksize=(15,15),sigmaX=0,sigmaY=0)\n",
    "    s=cv2.divide(gray,255-blur,scale=256)\n",
    "    return s"
   ]
  },
  {
   "cell_type": "code",
   "execution_count": 16,
   "id": "5a24f986",
   "metadata": {},
   "outputs": [],
   "source": [
    "cap=cv2.VideoCapture(0)\n",
    "while True:\n",
    "    ret,frame=cap.read()\n",
    "    cv2.imshow('live_sketch',sketch(frame))\n",
    "    cv2.imshow('Live_image',frame)\n",
    "    if cv2.waitKey(1)==ord('q'):\n",
    "        break\n",
    "cap.release()\n",
    "cv2.destroyAllWindows()"
   ]
  }
 ],
 "metadata": {
  "kernelspec": {
   "display_name": "Python 3 (ipykernel)",
   "language": "python",
   "name": "python3"
  },
  "language_info": {
   "codemirror_mode": {
    "name": "ipython",
    "version": 3
   },
   "file_extension": ".py",
   "mimetype": "text/x-python",
   "name": "python",
   "nbconvert_exporter": "python",
   "pygments_lexer": "ipython3",
   "version": "3.9.12"
  }
 },
 "nbformat": 4,
 "nbformat_minor": 5
}
